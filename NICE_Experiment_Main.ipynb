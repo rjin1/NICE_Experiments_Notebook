{
  "nbformat": 4,
  "nbformat_minor": 0,
  "metadata": {
    "colab": {
      "name": "NICE_Experiment_Main.ipynb",
      "provenance": [],
      "collapsed_sections": [],
      "mount_file_id": "https://gist.github.com/rjin1/15c30d4b9cb3d24a3de4fb91298f4e18#file-nice_experiment_main-ipynb",
      "authorship_tag": "ABX9TyNzKheTiCmry3HLFekCSR3P",
      "include_colab_link": true
    },
    "kernelspec": {
      "name": "python3",
      "display_name": "Python 3"
    },
    "language_info": {
      "name": "python"
    }
  },
  "cells": [
    {
      "cell_type": "markdown",
      "metadata": {
        "id": "view-in-github",
        "colab_type": "text"
      },
      "source": [
        "<a href=\"https://colab.research.google.com/github/rjin1/NICE_Experiments_Notebook/blob/main/NICE_Experiment_Main.ipynb\" target=\"_parent\"><img src=\"https://colab.research.google.com/assets/colab-badge.svg\" alt=\"Open In Colab\"/></a>"
      ]
    },
    {
      "cell_type": "code",
      "metadata": {
        "id": "h3g5QTcDmojA"
      },
      "source": [
        "import numpy as np\n",
        "from scipy.io import loadmat\n",
        "from scipy.io import savemat\n",
        "import matplotlib.pyplot as plt\n",
        "import sys\n",
        "# np.set_printoptions(threshold=sys.maxsize)\n"
      ],
      "execution_count": 41,
      "outputs": []
    },
    {
      "cell_type": "code",
      "metadata": {
        "id": "ueaSx5hBnNTG"
      },
      "source": [
        "def Gen_Source(loc_filename = './drive/MyDrive/NICE_JupyterNotebook/DistributionParams/GumbelLocatParams.mat', loc_varname = 'locat_param', \n",
        "               scale_filename = './drive/MyDrive/NICE_JupyterNotebook/DistributionParams/GumbelScaleParams.mat', sacle_varname = 'scale_param', \n",
        "               N_sample = 7668, seed_gs = 1):\n",
        "  \n",
        "  loc = loadmat(loc_filename)[loc_varname].astype(np.float64)\n",
        "  scale = loadmat(scale_filename)[sacle_varname].astype(np.float64)\n",
        "\n",
        "  # Assume the loc and scale are in same format np.array in (N_source x 1)\n",
        "  N_source = loc.shape[0]\n",
        "  S = np.zeros((N_source, N_sample), np.float64)\n",
        "\n",
        "  # Control the RNG for repro\n",
        "  np.random.seed(seed_gs)\n",
        "  for i in range(N_source):\n",
        "    S[i,:] = np.random.gumbel(loc[i,0], scale[i,0], (1, N_sample))\n",
        "\n",
        "  return S"
      ],
      "execution_count": 3,
      "outputs": []
    },
    {
      "cell_type": "code",
      "metadata": {
        "id": "a8XJwVpjn7hf"
      },
      "source": [
        "def Gen_Mixture(S, ratio=1):\n",
        "  # Assume S is in np.array format in (N_souece x N_sample)\n",
        "  N_source_sample = S.shape\n",
        "  X = np.zeros((N_source_sample[0], N_source_sample[1]), np.float64)\n",
        "\n",
        "  for i in range(N_source_sample[1]):\n",
        "    for j in range(N_source_sample[0]):\n",
        "      X[j,i] = S[j,i] + ratio * (S[j,i] * (np.sum(S[:,i]) - S[j,i]) + np.sum(S[:,i] ** 2) - S[j,i] ** 2)\n",
        "\n",
        "  return X "
      ],
      "execution_count": 4,
      "outputs": []
    },
    {
      "cell_type": "code",
      "metadata": {
        "id": "9u_k5bC_8oYu"
      },
      "source": [
        "S = Gen_Source()\n",
        "X = Gen_Mixture(S)\n",
        "# i = 2\n",
        "# plt.plot(X[1,:],X[4,:],'.')\n",
        "# plt.hist(S[i,:], density=True, bins='auto')"
      ],
      "execution_count": 6,
      "outputs": []
    },
    {
      "cell_type": "code",
      "metadata": {
        "id": "rgHOE7GqJPxf"
      },
      "source": [
        "def Train_Valid_Split(Data, N_train, N_valid, seed_tvs):\n",
        "  # Assume data in format np.array with (N_source x N_sample)\n",
        "  N_sample = Data.shape[1]\n",
        "  \n",
        "  np.random.seed(seed_tvs)\n",
        "  ind_all = np.random.permutation(N_sample)\n",
        "  ind_train = ind_all[:N_train]\n",
        "  ind_valid = ind_all[N_train:N_train+N_valid]\n",
        "\n",
        "  Data_train = Data[:,ind_train]\n",
        "  Data_valid = Data[:,ind_valid]\n",
        "\n",
        "  return Data_train, Data_valid"
      ],
      "execution_count": 47,
      "outputs": []
    },
    {
      "cell_type": "code",
      "metadata": {
        "id": "C2wBGM-mX34H"
      },
      "source": [
        ""
      ],
      "execution_count": null,
      "outputs": []
    }
  ]
}